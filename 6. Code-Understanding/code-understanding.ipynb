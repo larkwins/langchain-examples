{
 "cells": [
  {
   "cell_type": "markdown",
   "metadata": {},
   "source": [
    "## 六. 代码理解(Code Understanding)\n",
    "\n",
    "代码理解用到的工具和文档问答差不多，不过我们的输入是一个项目的代码。\n",
    "\n",
    "- Co-Pilot-esque functionality that can help answer questions from a specific library, help you generate new code"
   ]
  },
  {
   "cell_type": "code",
   "execution_count": 3,
   "metadata": {},
   "outputs": [],
   "source": [
    "import sys\n",
    "sys.path.append(\"../\")\n",
    "from models import azure_chat_model, azure_embeddings\n"
   ]
  },
  {
   "cell_type": "code",
   "execution_count": 5,
   "metadata": {},
   "outputs": [],
   "source": [
    "# Helper to read local files\n",
    "import os\n",
    "\n",
    "# Vector Support\n",
    "from langchain.vectorstores import FAISS\n",
    "from langchain.embeddings.openai import OpenAIEmbeddings\n",
    "\n",
    "# Model and chain\n",
    "from langchain.chat_models import ChatOpenAI\n",
    "\n",
    "# Text splitters\n",
    "from langchain.text_splitter import CharacterTextSplitter\n",
    "from langchain.document_loaders import TextLoader\n"
   ]
  },
  {
   "cell_type": "code",
   "execution_count": 6,
   "metadata": {},
   "outputs": [],
   "source": [
    "\n",
    "root_dir = '../data/thefuzz/'\n",
    "docs = []\n",
    "\n",
    "# Go through each folder\n",
    "for dirpath, dirnames, filenames in os.walk(root_dir):\n",
    "    \n",
    "    # Go through each file\n",
    "    for file in filenames:\n",
    "        try: \n",
    "            # Load up the file as a doc and split\n",
    "            loader = TextLoader(os.path.join(dirpath, file), encoding='utf-8')\n",
    "            docs.extend(loader.load_and_split())\n",
    "        except Exception as e: \n",
    "            pass"
   ]
  },
  {
   "cell_type": "code",
   "execution_count": 7,
   "metadata": {},
   "outputs": [
    {
     "name": "stdout",
     "output_type": "stream",
     "text": [
      "You have 170 documents\n",
      "\n",
      "------ Start Document ------\n",
      "from timeit import timeit\n",
      "import math\n",
      "import csv\n",
      "\n",
      "iterations = 100000\n",
      "\n",
      "\n",
      "reader = csv.DictReader(open('data/titledata.csv'), delimiter='|')\n",
      "titles = [i['custom_title'] for i in reader]\n",
      "title_blob = '\\n'.join(titles)\n",
      "\n",
      "\n",
      "cirque_strings = [\n",
      "    \"cirque du soleil - zarkana - las vegas\",\n",
      "    \"cirque du sol\n"
     ]
    }
   ],
   "source": [
    "print (f\"You have {len(docs)} documents\\n\")\n",
    "print (\"------ Start Document ------\")\n",
    "print (docs[0].page_content[:300])\n"
   ]
  },
  {
   "cell_type": "code",
   "execution_count": 9,
   "metadata": {},
   "outputs": [],
   "source": [
    "docsearch = FAISS.from_documents(docs, azure_embeddings)"
   ]
  },
  {
   "cell_type": "code",
   "execution_count": 10,
   "metadata": {},
   "outputs": [],
   "source": [
    "from langchain.chains import RetrievalQA\n",
    "# Get our retriever ready\n",
    "qa = RetrievalQA.from_chain_type(llm=azure_chat_model, chain_type=\"stuff\", retriever=docsearch.as_retriever())"
   ]
  },
  {
   "cell_type": "code",
   "execution_count": 12,
   "metadata": {},
   "outputs": [
    {
     "data": {
      "text/plain": [
       "'You can use the `process.extractOne()` function from the `thefuzz` library to find the most similar item in a list of items. Here\\'s an example:\\n\\n```python\\nfrom thefuzz import process\\n\\nchoices = [\"item1\", \"item2\", \"item3\", \"item4\"]\\nquery = \"query\"\\n\\nbest_match = process.extractOne(query, choices)\\n```\\n\\nThe `extractOne()` function returns a tuple containing the best match and its similarity score. In this example, `best_match` will be a tuple like `(\"item2\", 86)`, indicating that \"item2\" is the best match with a similarity score of 86.'"
      ]
     },
     "execution_count": 12,
     "metadata": {},
     "output_type": "execute_result"
    }
   ],
   "source": [
    "query = \"What function do I use if I want to find the most similar item in a list of items?\"\n",
    "#query = \"What function do I use if I want to find the single best match above a score in a list of choices\"\n",
    "output = qa.run(query)\n",
    "output"
   ]
  },
  {
   "cell_type": "code",
   "execution_count": 15,
   "metadata": {},
   "outputs": [
    {
     "name": "stdout",
     "output_type": "stream",
     "text": [
      "best = process.extractOne(query, choices)\n"
     ]
    }
   ],
   "source": [
    "query = \"Can you write the code to use the process.extractOne() function? Only respond with code. No other text or explanation\"\n",
    "output = qa.run(query)\n",
    "print(output)"
   ]
  }
 ],
 "metadata": {
  "kernelspec": {
   "display_name": "base",
   "language": "python",
   "name": "python3"
  },
  "language_info": {
   "codemirror_mode": {
    "name": "ipython",
    "version": 3
   },
   "file_extension": ".py",
   "mimetype": "text/x-python",
   "name": "python",
   "nbconvert_exporter": "python",
   "pygments_lexer": "ipython3",
   "version": "3.10.9"
  },
  "orig_nbformat": 4
 },
 "nbformat": 4,
 "nbformat_minor": 2
}
