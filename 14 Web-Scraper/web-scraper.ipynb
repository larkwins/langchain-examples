{
 "cells": [
  {
   "cell_type": "markdown",
   "metadata": {},
   "source": [
    "## 十四. 网页爬取(Web Scraper)"
   ]
  },
  {
   "cell_type": "markdown",
   "metadata": {},
   "source": [
    "有些时候我们需要爬取一些 结构性比较强 的网页，并且需要将网页中的信息以JSON的方式返回回来。\n",
    "我们就可以使用 LLMRequestsChain 类去实现，具体可以参考下面代码\n",
    "\n",
    "为了方便理解，在例子中直接使用了Prompt的方法去格式化输出结果，而没用使用上个案例中用到的 StructuredOutputParser去格式化，也算是提供了另外一种格式化的思路"
   ]
  },
  {
   "cell_type": "code",
   "execution_count": 1,
   "metadata": {},
   "outputs": [
    {
     "data": {
      "text/plain": [
       "True"
      ]
     },
     "execution_count": 1,
     "metadata": {},
     "output_type": "execute_result"
    }
   ],
   "source": [
    "from dotenv import load_dotenv\n",
    "load_dotenv(dotenv_path=\"../.env\")"
   ]
  },
  {
   "cell_type": "code",
   "execution_count": 3,
   "metadata": {},
   "outputs": [],
   "source": [
    "import os\n",
    "\n",
    "from langchain.llms import AzureOpenAI\n",
    "llm = AzureOpenAI(\n",
    "    openai_api_base=os.getenv(\"AZURE_OPENAI_BASE_URL\"),\n",
    "    openai_api_version=\"2023-09-15-preview\",\n",
    "    deployment_name=os.getenv(\"AZURE_DEPLOYMENT_NAME_COMPLETE\"),\n",
    "    openai_api_key=os.getenv(\"AZURE_OPENAI_API_KEY\"),\n",
    "    openai_api_type=\"azure\",    \n",
    "    #model_name=\"gpt-35-turbo\",\n",
    ")"
   ]
  },
  {
   "cell_type": "code",
   "execution_count": 5,
   "metadata": {},
   "outputs": [],
   "source": [
    "from langchain.prompts import PromptTemplate\n",
    "from langchain.chains import LLMRequestsChain, LLMChain\n",
    "\n",
    "template = \"\"\"在 >>> 和 <<< 之间是网页的返回的HTML内容。\n",
    "网页是新浪财经A股上市公司的公司简介。\n",
    "请抽取参数请求的信息。\n",
    "\n",
    ">>> {requests_result} <<<\n",
    "请使用如下的JSON格式返回数据\n",
    "{{\n",
    "  \"company_name\":\"a\",\n",
    "  \"company_english_name\":\"b\",\n",
    "  \"issue_price\":\"c\",\n",
    "  \"date_of_establishment\":\"d\",\n",
    "  \"registered_capital\":\"e\",\n",
    "  \"office_address\":\"f\",\n",
    "  \"Company_profile\":\"g\"\n",
    "\n",
    "}}\n",
    "Extracted:\"\"\"\n",
    "\n",
    "prompt = PromptTemplate(\n",
    "    input_variables=[\"requests_result\"],\n",
    "    template=template\n",
    ")\n",
    "\n",
    "chain = LLMRequestsChain(llm_chain=LLMChain(llm=llm, prompt=prompt))\n"
   ]
  },
  {
   "cell_type": "code",
   "execution_count": 6,
   "metadata": {},
   "outputs": [
    {
     "name": "stdout",
     "output_type": "stream",
     "text": [
      " \n",
      "\n",
      "{\n",
      "  \"company_name\":\"贵州茅台酒股份有限公司\",\n",
      "  \"company_english_name\":\"Kweichow Moutai Co.,Ltd.\",\n",
      "  \"issue_price\":\"31.39\",\n",
      "  \"date_of_establishment\":\"1999-11-20\",\n",
      "  \"registered_capital\":\"125620万元(CNY)\",\n",
      "  \"office_address\":\"贵州省仁怀市茅台镇\",\n",
      "  \"Company_profile\":\"    公司是根据贵州省人民政府黔府函〔1999〕291号文,由中国贵州茅台酒厂有限责任公司作为主发起人,联合贵州茅台酒厂技术开发公司、贵州省轻纺集体工业联社、深圳清华大学研究院、中国食品发酵工业研究院、北京市糖业烟酒公司、江苏省糖烟酒总公司、\n"
     ]
    }
   ],
   "source": [
    "inputs = {\n",
    "  \"url\": \"https://vip.stock.finance.sina.com.cn/corp/go.php/vCI_CorpInfo/stockid/600519.phtml\"\n",
    "}\n",
    "\n",
    "response = chain(inputs)\n",
    "print(response['output'])"
   ]
  }
 ],
 "metadata": {
  "kernelspec": {
   "display_name": "base",
   "language": "python",
   "name": "python3"
  },
  "language_info": {
   "codemirror_mode": {
    "name": "ipython",
    "version": 3
   },
   "file_extension": ".py",
   "mimetype": "text/x-python",
   "name": "python",
   "nbconvert_exporter": "python",
   "pygments_lexer": "ipython3",
   "version": "3.10.9"
  },
  "orig_nbformat": 4
 },
 "nbformat": 4,
 "nbformat_minor": 2
}
