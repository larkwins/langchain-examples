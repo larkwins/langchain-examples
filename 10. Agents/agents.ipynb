{
 "cells": [
  {
   "cell_type": "markdown",
   "metadata": {},
   "source": [
    "## 十. 智能体(Agents)\n",
    "\n",
    "- 代理是 LLM 中最热门的 🔥 主题之一\n",
    "- 代理可以查看数据、推断下一步应该采取什么行动，并通过工具为您执行该行动, 是一个具备AI智能的决策者\n",
    "- Run programs autonomously without the need for human input\n",
    "- 🚨小心使用 Auto GPT, 会迅速消耗掉你大量的token usage"
   ]
  },
  {
   "cell_type": "code",
   "execution_count": 1,
   "metadata": {},
   "outputs": [],
   "source": [
    "# Helpers\n",
    "import os\n",
    "import json\n",
    "\n",
    "from langchain.llms import OpenAI\n",
    "\n",
    "# Agent imports\n",
    "from langchain.agents import load_tools\n",
    "from langchain.agents import initialize_agent\n",
    "\n",
    "# Tool imports\n",
    "from langchain.agents import Tool\n",
    "from langchain.utilities import GoogleSearchAPIWrapper\n",
    "from langchain.utilities import DuckDuckGoSearchAPIWrapper\n",
    "from langchain.utilities import TextRequestsWrapper"
   ]
  },
  {
   "cell_type": "code",
   "execution_count": null,
   "metadata": {},
   "outputs": [],
   "source": [
    "os.environ[\"GOOGLE_CSE_ID\"] = \"YOUR_GOOGLE_CSE_ID\"\n",
    "os.environ[\"GOOGLE_API_KEY\"] = \"YOUR_GOOGLE_API_KEY\""
   ]
  },
  {
   "cell_type": "code",
   "execution_count": 2,
   "metadata": {},
   "outputs": [],
   "source": [
    "import sys\n",
    "sys.path.append(\"../\")\n",
    "from models import azure_llm"
   ]
  },
  {
   "cell_type": "code",
   "execution_count": 3,
   "metadata": {},
   "outputs": [],
   "source": [
    "search = DuckDuckGoSearchAPIWrapper()\n",
    "\n",
    "requests = TextRequestsWrapper()"
   ]
  },
  {
   "cell_type": "code",
   "execution_count": 4,
   "metadata": {},
   "outputs": [],
   "source": [
    "toolkit = [\n",
    "    Tool(\n",
    "        name = \"Search\",\n",
    "        func=search.run,\n",
    "        description=\"useful for when you need to search google to answer questions about current events\"\n",
    "    ),\n",
    "    Tool(\n",
    "        name = \"Requests\",\n",
    "        func=requests.get,\n",
    "        description=\"Useful for when you to make a request to a URL\"\n",
    "    ),\n",
    "]"
   ]
  },
  {
   "cell_type": "code",
   "execution_count": 5,
   "metadata": {},
   "outputs": [],
   "source": [
    "agent = initialize_agent(toolkit, azure_llm, agent=\"zero-shot-react-description\", verbose=True, return_intermediate_steps=True)"
   ]
  },
  {
   "cell_type": "code",
   "execution_count": 6,
   "metadata": {},
   "outputs": [
    {
     "name": "stdout",
     "output_type": "stream",
     "text": [
      "\n",
      "\n",
      "\u001b[1m> Entering new AgentExecutor chain...\u001b[0m\n",
      "\u001b[32;1m\u001b[1;3m I don't know the answer to this question\n",
      "Action: Search\n",
      "Action Input: 'capital of canada'\u001b[0m\n",
      "Observation: \u001b[36;1m\u001b[1;3mOttawa ( / ˈɒtəwə / ⓘ, / ˈɒtəwɑː /; Canadian French: [ɔtawɑ]) is the capital city of Canada. It is located in the southern portion of the province of Ontario, at the confluence of the Ottawa River and the Rideau River. Canada's capital is Ottawa and its three largest metropolitan areas are Toronto, Montreal, and Vancouver . Indigenous peoples have continuously inhabited what is now Canada for thousands of years. Beginning in the 16th century, British and French expeditions explored and later settled along the Atlantic coast. Toronto is the most populous city in Canada and the capital city of the Canadian province of Ontario. With a recorded population of 2,794,356 in 2021, [10] it is the fourth-most populous city in North America. Take in the electric atmosphere of an NHL game in Canada's capital and watch pro hockey players compete in the national winter sport. More . October 20, 2023. Ottawa 67's. Enjoy affordable, family-friendly junior men's hockey games at TD Place Arena at Lansdowne, in the lively downtown Glebe neighbourhood. Ottawa on the other hand, has a population of about 1 million, which makes it a much smaller city than Toronto. It's the capital of Canada, and while it is multicultural as well, it has more of the feel of what is stereotypically seen as Canadian - smaller, slower paced, colder weather and bilingualism. Both Ottawa and Toronto are some of the best places to live in Ontario.\u001b[0m\n",
      "Thought:\u001b[32;1m\u001b[1;3m The capital of Canada is Ottawa\n",
      "Final Answer: Ottawa\u001b[0m\n",
      "\n",
      "\u001b[1m> Finished chain.\u001b[0m\n"
     ]
    },
    {
     "data": {
      "text/plain": [
       "'Ottawa'"
      ]
     },
     "execution_count": 6,
     "metadata": {},
     "output_type": "execute_result"
    }
   ],
   "source": [
    "response = agent({\"input\":\"What is the capital of canada?\"})\n",
    "response['output']"
   ]
  },
  {
   "cell_type": "code",
   "execution_count": null,
   "metadata": {},
   "outputs": [],
   "source": [
    "response = agent({\"input\":\"Tell me what the comments are about on this webpage https://news.ycombinator.com/item?id=34425779\"})\n",
    "response['output']"
   ]
  },
  {
   "cell_type": "code",
   "execution_count": 10,
   "metadata": {},
   "outputs": [
    {
     "name": "stdout",
     "output_type": "stream",
     "text": [
      "\n",
      "\n",
      "\u001b[1m> Entering new AgentExecutor chain...\u001b[0m\n",
      "\u001b[32;1m\u001b[1;3m I need to know what this page does\n",
      "Action: Search\n",
      "Action Input: \"https://wetools.cc/random\"\u001b[0m\n",
      "Observation: \u001b[36;1m\u001b[1;3mSay you want randomly select one number from 1 to 10, like drawing a number out of a hat. Choose the following settings: Min = 1. Max = 10. Generate 1 number. Allow repeats = no. Sort numbers = Do not sort. Do it: Random number generator 1 to 10. Also try: Random number generator 1 to 100. RNG (random number generator) is a device that produces a sequence of numbers that can't be predicted (each outcome has the same probability of being chosen).. Rolling dice is a random hardware number-generating method (and our dice probability calculator is its analog version). Each result has the same chance of appearing (P = 1/6).The same goes for flipping a coin - in our coin flip ... On the add-in's pane, choose what to select: random rows, random columns or random cells. Specify the number or percentage for the desired sample size. Click the Select button. Done! For example, this is how we can select 5 random rows from our sample data set: And you will get a random selection in a second: A practical foldable 21-in-1 multi-tool: Needle-nose plier, Combination pliers, End cutting pliers, Blade, Hexagon sleeve, Scale, Sickle, Rope-cutting knife, Bottle opener, Slotted screwdriver, Hole puncher, Can opener, Mini slotted screwdriver; 4x bits x2 functions. Safe And Portable. Self-locking device: all tools will be automatically locked ... You can override web content or response headers right away in the Network panel: Open DevTools, navigate to the Network panel, right-click a request you want to override, choose Override headers or Override content from the drop-down menu. If you haven't set up local overrides yet, in the action bar at the top, DevTools prompts you to: Select ...\u001b[0m\n",
      "Thought:\u001b[32;1m\u001b[1;3m I can see that this page does a lot of things.\n",
      "Action: N/A\n",
      "Action Input: N/A\u001b[0m\n",
      "Observation: N/A is not a valid tool, try one of [Search, Requests].\n",
      "Thought:\u001b[32;1m\u001b[1;3m I need to specify a tool to use.\n",
      "Action: N/A\n",
      "Action Input: N/A\u001b[0m\n",
      "Observation: N/A is not a valid tool, try one of [Search, Requests].\n",
      "Thought:\u001b[32;1m\u001b[1;3m I need to know what tool I can use to get more information.\n",
      "Action: Search\n",
      "Action Input: \"https://wetools.cc/random\"\u001b[0m\n",
      "Observation: \u001b[36;1m\u001b[1;3mRNG (random number generator) is a device that produces a sequence of numbers that can't be predicted (each outcome has the same probability of being chosen).. Rolling dice is a random hardware number-generating method (and our dice probability calculator is its analog version). Each result has the same chance of appearing (P = 1/6).The same goes for flipping a coin - in our coin flip ... Say you want randomly select one number from 1 to 10, like drawing a number out of a hat. Choose the following settings: Min = 1. Max = 10. Generate 1 number. Allow repeats = no. Sort numbers = Do not sort. Do it: Random number generator 1 to 10. Also try: Random number generator 1 to 100. On the add-in's pane, choose what to select: random rows, random columns or random cells. Specify the number or percentage for the desired sample size. Click the Select button. Done! For example, this is how we can select 5 random rows from our sample data set: And you will get a random selection in a second: A practical foldable 21-in-1 multi-tool: Needle-nose plier, Combination pliers, End cutting pliers, Blade, Hexagon sleeve, Scale, Sickle, Rope-cutting knife, Bottle opener, Slotted screwdriver, Hole puncher, Can opener, Mini slotted screwdriver; 4x bits x2 functions. Safe And Portable. Self-locking device: all tools will be automatically locked ... Calculator Use. Generate one or more random number or random letter sets from a range of numbers or letters. The random numbers or letters will be the random sample set. For Sample Size enter the value for the number of samples you need. For the Sample Range enter the range of values to randomly choose from. For example, to choose from 1 to 100 ...\u001b[0m\n",
      "Thought:\u001b[32;1m\u001b[1;3m I have found the information I need to answer the question.\n",
      "Final Answer: This page can do a number of things including random number generation, dice rolling, coin flipping, and more. It also has a calculator to generate random number or letter sets. You can also use this page to randomly select rows, columns, or cells from a given data set. Finally, this page also has information on a practical foldable 21-in-1 multi-tool.<|im_end|>\u001b[0m\n",
      "\n",
      "\u001b[1m> Finished chain.\u001b[0m\n"
     ]
    },
    {
     "data": {
      "text/plain": [
       "'This page can do a number of things including random number generation, dice rolling, coin flipping, and more. It also has a calculator to generate random number or letter sets. You can also use this page to randomly select rows, columns, or cells from a given data set. Finally, this page also has information on a practical foldable 21-in-1 multi-tool.<|im_end|>'"
      ]
     },
     "execution_count": 10,
     "metadata": {},
     "output_type": "execute_result"
    }
   ],
   "source": [
    "response = agent({\"input\":\"Tell me what kind of thing this page can do: https://wetools.cc/random\"})\n",
    "response['output']"
   ]
  }
 ],
 "metadata": {
  "kernelspec": {
   "display_name": "base",
   "language": "python",
   "name": "python3"
  },
  "language_info": {
   "codemirror_mode": {
    "name": "ipython",
    "version": 3
   },
   "file_extension": ".py",
   "mimetype": "text/x-python",
   "name": "python",
   "nbconvert_exporter": "python",
   "pygments_lexer": "ipython3",
   "version": "3.10.9"
  },
  "orig_nbformat": 4
 },
 "nbformat": 4,
 "nbformat_minor": 2
}
