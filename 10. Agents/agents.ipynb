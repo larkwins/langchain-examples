{
 "cells": [
  {
   "cell_type": "markdown",
   "metadata": {},
   "source": [
    "## 十. 智能体(Agents)\n",
    "\n",
    "- 代理是 LLM 中最热门的 🔥 主题之一\n",
    "- 代理可以查看数据、推断下一步应该采取什么行动，并通过工具为您执行该行动, 是一个具备AI智能的决策者\n",
    "- Run programs autonomously without the need for human input\n",
    "- 🚨小心使用 OPENAI/Auto GPT, 会迅速消耗掉你大量的token usage"
   ]
  },
  {
   "cell_type": "code",
   "execution_count": 18,
   "metadata": {},
   "outputs": [],
   "source": [
    "import os\n",
    "import json\n",
    "\n",
    "# Agent imports\n",
    "from langchain.agents import load_tools\n",
    "from langchain.agents import initialize_agent\n",
    "from langchain.agents import AgentType\n",
    "\n",
    "# Tool imports\n",
    "from langchain.agents import Tool\n",
    "from langchain.utilities import GoogleSearchAPIWrapper\n",
    "from langchain.utilities import DuckDuckGoSearchAPIWrapper\n",
    "from langchain.utilities import TextRequestsWrapper\n",
    "from langchain import LLMMathChain\n"
   ]
  },
  {
   "cell_type": "code",
   "execution_count": null,
   "metadata": {},
   "outputs": [],
   "source": [
    "os.environ[\"GOOGLE_CSE_ID\"] = \"YOUR_GOOGLE_CSE_ID\"\n",
    "os.environ[\"GOOGLE_API_KEY\"] = \"YOUR_GOOGLE_API_KEY\""
   ]
  },
  {
   "cell_type": "code",
   "execution_count": 2,
   "metadata": {},
   "outputs": [
    {
     "data": {
      "text/plain": [
       "True"
      ]
     },
     "execution_count": 2,
     "metadata": {},
     "output_type": "execute_result"
    }
   ],
   "source": [
    "from dotenv import load_dotenv\n",
    "load_dotenv(dotenv_path=\"../.env\")"
   ]
  },
  {
   "cell_type": "code",
   "execution_count": 11,
   "metadata": {},
   "outputs": [],
   "source": [
    "import os\n",
    "\n",
    "from langchain.llms import AzureOpenAI\n",
    "llm = AzureOpenAI(\n",
    "    openai_api_base=os.getenv(\"AZURE_OPENAI_BASE_URL\"),\n",
    "    openai_api_version=\"2023-09-15-preview\",\n",
    "    deployment_name=os.getenv(\"AZURE_DEPLOYMENT_NAME_COMPLETE\"),\n",
    "    openai_api_key=os.getenv(\"AZURE_OPENAI_API_KEY\"),\n",
    "    openai_api_type=\"azure\",    \n",
    "    #model_name=\"gpt-35-turbo\",\n",
    ")\n"
   ]
  },
  {
   "cell_type": "code",
   "execution_count": 15,
   "metadata": {},
   "outputs": [],
   "source": [
    "# 初始化三个 tool：搜索链、网页请求链、计算链\n",
    "\n",
    "search = DuckDuckGoSearchAPIWrapper()\n",
    "\n",
    "requests = TextRequestsWrapper()\n",
    "\n",
    "llm_math_chain = LLMMathChain.from_llm(llm=llm, verbose=True)"
   ]
  },
  {
   "cell_type": "code",
   "execution_count": 20,
   "metadata": {},
   "outputs": [],
   "source": [
    "tools = [\n",
    "    Tool(\n",
    "        name = \"Search\",\n",
    "        func=search.run,\n",
    "        description=\"useful for when you need to search google to answer questions about current events\"\n",
    "    ),\n",
    "    Tool(\n",
    "        name = \"Requests\",\n",
    "        func=requests.get,\n",
    "        description=\"Useful for when you to make a request to a URL\"\n",
    "    ),\n",
    "    Tool(\n",
    "        name=\"Calculator\",\n",
    "        func=llm_math_chain.run,\n",
    "        description=\"useful for when you need to answer questions about math\"\n",
    "    ),\n",
    "]"
   ]
  },
  {
   "cell_type": "code",
   "execution_count": 21,
   "metadata": {},
   "outputs": [],
   "source": [
    "#agent = initialize_agent(tools, llm, agent=\"zero-shot-react-description\", verbose=True, return_intermediate_steps=True, handle_parsing_errors=True)\n",
    "agent = initialize_agent(tools, llm, agent=AgentType.ZERO_SHOT_REACT_DESCRIPTION, verbose=True, return_intermediate_steps=True, handle_parsing_errors=True)\n"
   ]
  },
  {
   "cell_type": "code",
   "execution_count": 6,
   "metadata": {},
   "outputs": [
    {
     "name": "stdout",
     "output_type": "stream",
     "text": [
      "\n",
      "\n",
      "\u001b[1m> Entering new AgentExecutor chain...\u001b[0m\n",
      "\u001b[32;1m\u001b[1;3m I don't know the capital of canada\n",
      "Action: Search\n",
      "Action Input: 'capital of canada'\u001b[0m\n",
      "Observation: \u001b[36;1m\u001b[1;3mOttawa ( / ˈɒtəwə / ⓘ, / ˈɒtəwɑː /; Canadian French: [ɔtawɑ]) is the capital city of Canada. It is located in the southern portion of the province of Ontario, at the confluence of the Ottawa River and the Rideau River. Canada's capital is Ottawa and its three largest metropolitan areas are Toronto, Montreal, and Vancouver . Indigenous peoples have continuously inhabited what is now Canada for thousands of years. Beginning in the 16th century, British and French expeditions explored and later settled along the Atlantic coast. Toronto is the most populous city in Canada and the capital city of the Canadian province of Ontario. With a recorded population of 2,794,356 in 2021, [10] it is the fourth-most populous city in North America. Capital. name: Ottawa geographic coordinates: 45 25 N, 75 42 W time difference: UTC-5 (same time as Washington, DC, during Standard Time) daylight saving time: +1hr, begins second Sunday in March; ends first Sunday in November time zone note: Canada has six time zones etymology: the city lies on the south bank of the Ottawa River, from which it derives its name; the river name comes from the ... After lengthy debate, Ottawa was chosen as Canada's capital by Queen Victoria in 1857 Key dates in the history of Canada: 15,000-20,000 before present - North America's first humans migrate from Asia.\u001b[0m\n",
      "Thought:\u001b[32;1m\u001b[1;3m Canada's capital is Ottawa\n",
      "Final Answer: Ottawa\u001b[0m\n",
      "\n",
      "\u001b[1m> Finished chain.\u001b[0m\n"
     ]
    },
    {
     "data": {
      "text/plain": [
       "'Ottawa'"
      ]
     },
     "execution_count": 6,
     "metadata": {},
     "output_type": "execute_result"
    }
   ],
   "source": [
    "response = agent({\"input\":\"What is the capital of canada?\"})\n",
    "response['output']"
   ]
  },
  {
   "cell_type": "code",
   "execution_count": null,
   "metadata": {},
   "outputs": [],
   "source": [
    "response = agent({\"input\":\"Tell me what the comments are about on this webpage https://news.ycombinator.com/item?id=34425779\"})\n",
    "response['output']"
   ]
  },
  {
   "cell_type": "code",
   "execution_count": 10,
   "metadata": {},
   "outputs": [
    {
     "name": "stdout",
     "output_type": "stream",
     "text": [
      "\n",
      "\n",
      "\u001b[1m> Entering new AgentExecutor chain...\u001b[0m\n",
      "\u001b[32;1m\u001b[1;3m It looks like a random word generator, but I'm not sure\n",
      "Action: Search\n",
      "Action Input: \"https://wetools.cc/random\"\u001b[0m\n",
      "Observation: \u001b[36;1m\u001b[1;3mWhen sending an email, cc allows you to send a copy of your email to someone who is not the recipient listed in the \"to\" field. Before the internet and email communication, we wrote letters. Copy machines didn't exist in those days either. To make a copy of a letter, one needed to use carbon paper. Carbon paper was placed between two ... A practical foldable 21-in-1 multi-tool: Needle-nose plier, Combination pliers, End cutting pliers, Blade, Hexagon sleeve, Scale, Sickle, Rope-cutting knife, Bottle opener, Slotted screwdriver, Hole puncher, Can opener, Mini slotted screwdriver; 4x bits x2 functions. Safe And Portable. Self-locking device: all tools will be automatically locked ... Plex-Sync — Synchronizes all your different Plex servers, but can be a bit more technical to use. FileBot — FileBot is a separate app from Plex, and it includes an integrated subtitle downloader. Lambda — Lets you manage metadata for your content with ease. Overall Take. While most staplers just work with paper, this heavy-duty staple gun can handle basic home projects such as fixing furniture or repairing fabrics. It works with three types of staples. In our analysis, the WETOLS WETOLS Multifunctional Home Repair Stapler placed 12th when we looked at the top 14 products in the category. My command console for system 32 keeps popping up at seemingly random intervals, and since you guys didn't want to answer any of the other people that had this issue I figured I would give it a shot.\u001b[0m\n",
      "Thought:\u001b[32;1m\u001b[1;3m That observation was not helpful, but I'm pretty sure I can find the answer with a simple search\n",
      "Action: Search\n",
      "Action Input: \"https://wetools.cc/random\"\u001b[0m\n",
      "Observation: \u001b[36;1m\u001b[1;3mWhen sending an email, cc allows you to send a copy of your email to someone who is not the recipient listed in the \"to\" field. Before the internet and email communication, we wrote letters. Copy machines didn't exist in those days either. To make a copy of a letter, one needed to use carbon paper. Carbon paper was placed between two ... A practical foldable 21-in-1 multi-tool: Needle-nose plier, Combination pliers, End cutting pliers, Blade, Hexagon sleeve, Scale, Sickle, Rope-cutting knife, Bottle opener, Slotted screwdriver, Hole puncher, Can opener, Mini slotted screwdriver; 4x bits x2 functions. Safe And Portable. Self-locking device: all tools will be automatically locked ... Plex-Sync — Synchronizes all your different Plex servers, but can be a bit more technical to use. FileBot — FileBot is a separate app from Plex, and it includes an integrated subtitle downloader. Lambda — Lets you manage metadata for your content with ease. The WETOLS Rivet Nut Tool Set, 14-Inch is an excellent choice, as the tool's mandrels are made from chrome steel that has been heat-treated to 104 degrees Fahrenheit. Additionally, the tool's arm is formed from a 45 carbon steel that is corrosion and rust-resistant. Other models may be constructed of aluminum, brass or a nickel-based alloy. Overall Take. While most staplers just work with paper, this heavy-duty staple gun can handle basic home projects such as fixing furniture or repairing fabrics. It works with three types of staples. In our analysis, the WETOLS WETOLS Multifunctional Home Repair Stapler placed 12th when we looked at the top 14 products in the category.\u001b[0m\n",
      "Thought:\u001b[32;1m\u001b[1;3m That search was also not helpful. Let me try another one.\n",
      "Action: Search\n",
      "Action Input: \"https://wetools.cc/random\"\u001b[0m\n",
      "Observation: \u001b[36;1m\u001b[1;3mRANDOM.ORG is a true random number service that generates randomness via atmospheric noise. This page lists the popular media coverage and the peer-reviewed citations that the service has received since it went online in 1998. Dice Roller. You rolled 1 die: Timestamp: 2023-10-17 11:27:22 UTC. Does this not look random to you? Check out the FAQ. This page allows you to roll virtual dice using true randomness, which for many purposes is better than the pseudo-random number algorithms typically used in computer programs. When sending an email, cc allows you to send a copy of your email to someone who is not the recipient listed in the \"to\" field. Before the internet and email communication, we wrote letters. Copy machines didn't exist in those days either. To make a copy of a letter, one needed to use carbon paper. Carbon paper was placed between two ... A practical foldable 21-in-1 multi-tool: Needle-nose plier, Combination pliers, End cutting pliers, Blade, Hexagon sleeve, Scale, Sickle, Rope-cutting knife, Bottle opener, Slotted screwdriver, Hole puncher, Can opener, Mini slotted screwdriver; 4x bits x2 functions. Safe And Portable. Self-locking device: all tools will be automatically locked ... Google Keep: This note-taking app and website catalogs notes within labels that make sense for your research. Access them from the web on any computer or from your mobile device. It supports collaborations, custom colors, images, drawings, and reminders. Yahoo Notepad: If you use Yahoo Mail, the notes area of your account is a great place to ...\u001b[0m\n",
      "Thought:\u001b[32;1m\u001b[1;3m This website seems to be giving me random information. I think I need to go to a different website.\n",
      "Action: Search\n",
      "Action Input: \"https://wetools.cc/random\"\u001b[0m\n",
      "Observation: \u001b[36;1m\u001b[1;3mDice Roller. You rolled 1 die: Timestamp: 2023-10-17 11:27:22 UTC. Does this not look random to you? Check out the FAQ. This page allows you to roll virtual dice using true randomness, which for many purposes is better than the pseudo-random number algorithms typically used in computer programs. When sending an email, cc allows you to send a copy of your email to someone who is not the recipient listed in the \"to\" field. Before the internet and email communication, we wrote letters. Copy machines didn't exist in those days either. To make a copy of a letter, one needed to use carbon paper. Carbon paper was placed between two ... RANDOM.ORG is a true random number service that generates randomness via atmospheric noise. This page lists the popular media coverage and the peer-reviewed citations that the service has received since it went online in 1998. A practical foldable 21-in-1 multi-tool: Needle-nose plier, Combination pliers, End cutting pliers, Blade, Hexagon sleeve, Scale, Sickle, Rope-cutting knife, Bottle opener, Slotted screwdriver, Hole puncher, Can opener, Mini slotted screwdriver; 4x bits x2 functions. Safe And Portable. Self-locking device: all tools will be automatically locked ... Google Keep: This note-taking app and website catalogs notes within labels that make sense for your research. Access them from the web on any computer or from your mobile device. It supports collaborations, custom colors, images, drawings, and reminders. Yahoo Notepad: If you use Yahoo Mail, the notes area of your account is a great place to ...\u001b[0m\n",
      "Thought:\u001b[32;1m\u001b[1;3m I need to stop going to this website. I think I need to look up the website I'm curious about\n",
      "Action: Search\n",
      "Action Input: \"https://wetools.cc/random\"\u001b[0m\n",
      "Observation: \u001b[36;1m\u001b[1;3mWhen sending an email, cc allows you to send a copy of your email to someone who is not the recipient listed in the \"to\" field. Before the internet and email communication, we wrote letters. Copy machines didn't exist in those days either. To make a copy of a letter, one needed to use carbon paper. Carbon paper was placed between two ... Whether you are collecting objects for an indoor or outdoor scavenger hunt, need a list of random objects for a drawing or art project, or want to teach children about different things and their names, such as key chains, clay pots, picture frames, rubber ducks, toothpicks, etc. Regardless of your purpose, our random object generator can assist ... Coin Flipper. You flipped 1 coin of type US 1¢ Penny: Timestamp: 2023-10-09 09:12:56 UTC. This form allows you to flip virtual coins based on true randomness, which for many purposes is better than the pseudo-random number algorithms typically used in computer programs. 1) Favicon.io. With this free favicon generator, you can create favicon icons from a text, an image, or an emoji. With the text-based option, you can choose the background color and shape, the font family and size as well as the font color. The Favicon generator uses Google Fonts which has 800+ fonts available. A practical foldable 21-in-1 multi-tool: Needle-nose plier, Combination pliers, End cutting pliers, Blade, Hexagon sleeve, Scale, Sickle, Rope-cutting knife, Bottle opener, Slotted screwdriver, Hole puncher, Can opener, Mini slotted screwdriver; 4x bits x2 functions. Safe And Portable. Self-locking device: all tools will be automatically locked ...\u001b[0m\n",
      "Thought:\u001b[32;1m\u001b[1;3m I'm getting nowhere with this website. I think I need to try making a request to the website directly\n",
      "Action: Requests\n",
      "Action Input: \"https://wetools.cc/random\"\u001b[0m\n",
      "Observation: \u001b[33;1m\u001b[1;3m<!doctype html><html lang=zh-cn><title>随机数生成、随机字符串生成、random、密码生成器 - WeTools</title><meta charset=utf-8><meta http-equiv=x-ua-compatible content=\"IE=edge\"><meta name=viewport content=\"width=device-width,initial-scale=1\"><script src=/static/libs/pace/1.0.0/pace.min.js></script><link rel=\"shortcut icon\" href=favicon.ico><link rel=apple-touch-icon href=/static/favicon.ico><link rel=stylesheet href=/static/libs/bootstrap/customize/css/bootstrap.min.css><link rel=stylesheet href=/static/css/main.css?20160303><link rel=stylesheet href=https://cdnjs.cloudflare.com/ajax/libs/aplayer/1.10.1/APlayer.min.css class=aplayer-style-marker><script src=https://cdnjs.cloudflare.com/ajax/libs/aplayer/1.10.1/APlayer.min.js class=aplayer-script-marker></script><script src=https://cdn.jsdelivr.net/npm/meting@2/dist/Meting.min.js></script><meting-js fixed=true auto=https://y.qq.com/n/yqq/playlist/7268159872.html></meting-js><script>var site_config={\"tools_version\":\"0.0.9\"};</script><body id=body><header><noscript><div class=noscript></div></noscript><nav class=\"navbar navbar-inverse navbar-fixed-top\"><div class=container-fluid><div class=navbar-header><button type=button class=\"navbar-toggle collapsed\" data-toggle=collapse data-target=#navbar>\n",
      "<span class=sr-only>Toggle navigation</span>\n",
      "<span class=icon-bar></span><span class=icon-bar></span>favi\n",
      "<span class=icon-bar></span></button>\n",
      "<a href=/ class=\"hidden-900 navbar-brand\" title=\"在线工具 - WeTools\">WeTools</a></div><div class=\"collapse navbar-collapse\" id=navbar><ul class=\"nav navbar-nav\"><li class=\"dropdown visible-900\" onmouseover=\"this.className='dropdown open'\" onmouseout=\"this.className='dropdown'\"><a href=/ class=\"dropdown-toggle navbar-brand\" title=\"在线工具 - WeTools\">WeTools</a>\n",
      "\n",
      "<li class=dropdown onmouseover=\"this.className='dropdown open'\" onmouseout=\"this.className='dropdown'\"><a href=javascript: class=dropdown-toggle>开发工具<b class=caret></b></a><ul class=dropdown-menu><li><a href=https://wetools.cc/websocket>WebSocket测试</a>\n",
      "<li><a href=https://wetools.cc/markdown>Markdown在线编辑器</a>\n",
      "<li><a href=https://wetools.cc/ip>IP查询</a>\n",
      "<li><a href=https://wetools.cc/regex>正则表达式测试</a>\n",
      "<li><a href=https://wetools.cc/cron>Cron表达式</a>\n",
      "<li><a href=https://wetools.cc/uuid>UUID生成</a>\n",
      "<li><a href=https://wetools.cc/playgo>GO在线运行</a>\n",
      "</ul><li class=dropdown onmouseover=\"this.className='dropdown open'\" onmouseout=\"this.className='dropdown'\"><a href=javascript: class=dropdown-toggle>格式化/压缩/混淆<b class=caret></b></a><ul class=dropdown-menu><li><a href=https://wetools.cc/json>JSON格式化</a>\n",
      "<li><a href=https://wetools.cc/sql>SQL格式化/压缩</a>\n",
      "</ul><li class=dropdown onmouseover=\"this.className='dropdown open'\" onmouseout=\"this.className='dropdown'\"><a href=javascript: class=dropdown-toggle>编解码/格式转换<b class=caret></b></a><ul class=dropdown-menu><li><a href=https://wetools.cc/base64>Base64编码解码</a>\n",
      "<li><a href=https://wetools.cc/urlencode>URL编码解码</a>\n",
      "<li><a href=https://wetools.cc/unicode>Unicode编码转换</a>\n",
      "<li><a href=https://wetools.cc/json2yaml>JSON/YAML互转</a>\n",
      "<li><a href=https://wetools.cc/timestamp>Unix时间戳</a>\n",
      "<li><a href=https://wetools.cc/json2xml>JSON/XML转换</a>\n",
      "<li><a href=https://wetools.cc/json2go>JSON转Golang Struct</a>\n",
      "<li><a href=https://wetools.cc/sql2go>SQL转Golang Struct</a>\n",
      "<li><a href=https://wetools.cc/json2proto>JSON转Proto</a>\n",
      "</ul><li class=dropdown onmouseover=\"this.className='dropdown open'\" onmouseout=\"this.className='dropdown'\"><a href=javascript: class=dropdown-toggle>加解密/Hash<b class=caret></b></a><ul class=dropdown-menu><li><a href=https://wetools.cc/des>DES加密解密</a>\n",
      "<li><a href=https://wetools.cc/hash>HASH计算/MD5/SHA1</a>\n",
      "<li><a href=https://wetools.cc/rsa>RSA加密解密</a>\n",
      "<li><a href=https://wetools.cc/aes>AES加密解密</a>\n",
      "<li><a href=https://wetools.cc/hmac>HMAC计算</a>\n",
      "</ul><li class=dropdown onmouseover=\"this.className='dropdown open'\" onmouseout=\"this.className='dropdown'\"><a href=javascript: class=dropdown-toggle>文档/手册<b class=caret></b></a><ul class=dropdown-menu><li><a href=https://wetools.cc/ascii>ASCII码表</a>\n",
      "<li><a href=https://wetools.cc/http-status-code>HTTP状态码</a>\n",
      "</ul><li class=dropdown onmouseover=\"this.className='dropdown open'\" onmouseout=\"this.className='dropdown'\"><a href=javascript: class=dropdown-toggle>其他<b class=caret></b></a><ul class=dropdown-menu><li><a href=https://wetools.cc/color>颜色值转换</a>\n",
      "<li><a href=https://wetools.cc/random>随机数/密码生成</a>\n",
      "<li><a href=https://wetools.cc/qrcode>二维码制作</a>\n",
      "</ul></ul><form class=\"navbar-form navbar-left visible-1120\"><div class=form-group><input class=\"form-control typeahead\" placeholder=试试快速导航></div></form><ul class=\"nav navbar-nav navbar-right\"><li class=dropdown><a href onclick=addFavorite() class=dropdown-toggle>★添加收藏</a><li class=dropdown><a target=_blank href=https://support.qq.com/products/336719 class=dropdown-toggle>♥留言反馈</a></ul></div></div></nav></header><script>function addFavorite(){try{window.sidebar.addPanel(location.href,document.title,\"\");}catch(e){try{window.external.addFavorite(document.title,location.href)}catch(e){alert(\"请使用快捷键Ctrl+D添加到收藏\");}}}\n",
      "var _hmt=_hmt||[];let hm=document.createElement(\"script\");hm.src=\"https://hm.baidu.com/hm.js?d3892a8ea4bec7ba1bb76ac94c952b6a\";let s=document.getElementsByTagName(\"script\")[0];s.parentNode.insertBefore(hm,s);let tools=document.querySelectorAll('.side-nav li');for(let i=0;i<tools.length;i++){let node=tools[i];if(node.querySelector('a').getAttribute('href').endsWith(document.location.pathname)){node.classList.add('active');break}}</script><script async src=\"https://www.googletagmanager.com/gtag/js?id=G-FC9T7F5QXS\"></script><script>window.dataLayer=window.dataLayer||[];function gtag(){dataLayer.push(arguments);}\n",
      "gtag('js',new Date());gtag('config','G-FC9T7F5QXS');</script><div id=content class=container-fluid><div class=\"row ttitle\"><div class=\"col-xs-12 col-sm-10\"><h3>随机数生成、随机字符串生成、random、密码生成器</h3></div><div class=\"col-xs-12 col-sm-2\"><dl class=\"list-unstyled pull-right\"></dl></div></div><div class=col-xs-12><form class=form-horizontal><div class=form-group><p class=\"bg-success text-success\">the generation is done in the client side, all your inputs will not submit to the server side</div><div class=\"form-group clearfix\"><label class=\"control-label col-sm-2\">Number:</label><div class=col-sm-2><input type=number class=form-control id=random-num value=5 placeholder></div></div><div class=\"form-group clearfix\"><label class=\"control-label col-sm-2\">Length:</label><div class=\"col-sm-10 form-inline\"><input type=number class=form-control id=random-len-from value=16 placeholder=\"Min length\">\n",
      "~\n",
      "<input type=number class=form-control id=random-len-to value=20 placeholder=\"Max length\"></div></div><div class=form-group><label class=\"control-label col-sm-2\">Charset:</label><div class=col-sm-10 id=random-charset><input class=form-control value=0123456789abcdefghijklmnopqrstuvwxyzABCDEFGHIJKLMNOPQRSTUVWXYZ~!@#$%^&*()_+ spellcheck=false><div class=checkbox><label><input type=checkbox value=0123456789 checked>\n",
      "numbers: 0123456789</label></div><div class=checkbox><label><input type=checkbox value=abcdefghijklmnopqrstuvwxyz checked>\n",
      "lowcase-letters: abcdefghijklmnopqrstuvwxyz</label></div><div class=checkbox><label><input type=checkbox value=ABCDEFGHIJKLMNOPQRSTUVWXYZ checked>\n",
      "upcase-letters: ABCDEFGHIJKLMNOPQRSTUVWXYZ</label></div><div class=checkbox><label><input type=checkbox value=~!@#$%^&*()_+ checked>\n",
      "symbols: ~!@#$%^&*()_+</label></div></div></div><div class=\"form-group clearfix\"><div class=\"col-sm-10 col-sm-offset-2\"><button type=button class=\"btn btn-primary\" id=random-generate autofocus>Generate</button></div></div><div class=form-group id=random-result><label class=\"control-label col-sm-2\">Result:</label><div class=col-sm-10><textarea class=form-control rows=6 spellcheck=false></textarea></div></div></form></div></div><script src=/static/libs/jquery/1.11.1/jquery-1.11.1.min.js></script><script src=/static/libs/bootstrap/customize/js/bootstrap.min.js></script><script src=/static/libs/bootstrap3-typeahead/bootstrap3-typeahead.min.js></script><script src=/static/js/main.js></script><script>~function($,window,Math){$(\"#random-generate\").click(function(e){var charset=$('#random-charset :text').val(),lenfrom=parseInt($('#random-len-from').val(),10),lento=parseInt($('#random-len-to').val(),10),num=parseInt($('#random-num').val(),10),result='';for(var i=num-1;i>=0;i--){result+=generateOne(charset,lenfrom,lento)+\"\\r\";}\n",
      "$('#random-result textarea').attr(\"rows\",num+1).val(result);e.preventDefault();return false;});$('#random-charset :checkbox').click(function(){var checked=$('#random-charset :checkbox:checked'),charset='';for(var i=0;i<checked.length;i++){charset+=checked[i].value};$('#random-charset :text').val(charset)});$(document).ready(function(){$('#random-generate').trigger('click');});function generateOne(charset,lenfrom,lento){var result='';if((lenfrom<=lento)&&(charset.length>0)&&(lenfrom>=0)){var len=Math.round(Math.random()*(lento-lenfrom)+lenfrom);while(result.length<len){result+=charset.charAt(Math.floor(Math.random()*charset.length))}}\n",
      "return result;}}(jQuery,window,Math)</script><div class=hidden><script></script></div>\u001b[0m\n",
      "Thought:\u001b[32;1m\u001b[1;3m This website looks like it will be useful for me. Let me try generating some random strings to see what it can do.\n",
      "Action: Requests\n",
      "Action Input: \"https://wetools.cc/random\"\u001b[0m\n",
      "Observation: \u001b[33;1m\u001b[1;3m<!doctype html><html lang=zh-cn><title>随机数生成、随机字符串生成、random、密码生成器 - WeTools</title><meta charset=utf-8><meta http-equiv=x-ua-compatible content=\"IE=edge\"><meta name=viewport content=\"width=device-width,initial-scale=1\"><script src=/static/libs/pace/1.0.0/pace.min.js></script><link rel=\"shortcut icon\" href=favicon.ico><link rel=apple-touch-icon href=/static/favicon.ico><link rel=stylesheet href=/static/libs/bootstrap/customize/css/bootstrap.min.css><link rel=stylesheet href=/static/css/main.css?20160303><link rel=stylesheet href=https://cdnjs.cloudflare.com/ajax/libs/aplayer/1.10.1/APlayer.min.css class=aplayer-style-marker><script src=https://cdnjs.cloudflare.com/ajax/libs/aplayer/1.10.1/APlayer.min.js class=aplayer-script-marker></script><script src=https://cdn.jsdelivr.net/npm/meting@2/dist/Meting.min.js></script><meting-js fixed=true auto=https://y.qq.com/n/yqq/playlist/7268159872.html></meting-js><script>var site_config={\"tools_version\":\"0.0.9\"};</script><body id=body><header><noscript><div class=noscript></div></noscript><nav class=\"navbar navbar-inverse navbar-fixed-top\"><div class=container-fluid><div class=navbar-header><button type=button class=\"navbar-toggle collapsed\" data-toggle=collapse data-target=#navbar>\n",
      "<span class=sr-only>Toggle navigation</span>\n",
      "<span class=icon-bar></span><span class=icon-bar></span>favi\n",
      "<span class=icon-bar></span></button>\n",
      "<a href=/ class=\"hidden-900 navbar-brand\" title=\"在线工具 - WeTools\">WeTools</a></div><div class=\"collapse navbar-collapse\" id=navbar><ul class=\"nav navbar-nav\"><li class=\"dropdown visible-900\" onmouseover=\"this.className='dropdown open'\" onmouseout=\"this.className='dropdown'\"><a href=/ class=\"dropdown-toggle navbar-brand\" title=\"在线工具 - WeTools\">WeTools</a>\n",
      "\n",
      "<li class=dropdown onmouseover=\"this.className='dropdown open'\" onmouseout=\"this.className='dropdown'\"><a href=javascript: class=dropdown-toggle>开发工具<b class=caret></b></a><ul class=dropdown-menu><li><a href=https://wetools.cc/websocket>WebSocket测试</a>\n",
      "<li><a href=https://wetools.cc/markdown>Markdown在线编辑器</a>\n",
      "<li><a href=https://wetools.cc/ip>IP查询</a>\n",
      "<li><a href=https://wetools.cc/regex>正则表达式测试</a>\n",
      "<li><a href=https://wetools.cc/cron>Cron表达式</a>\n",
      "<li><a href=https://wetools.cc/uuid>UUID生成</a>\n",
      "<li><a href=https://wetools.cc/playgo>GO在线运行</a>\n",
      "</ul><li class=dropdown onmouseover=\"this.className='dropdown open'\" onmouseout=\"this.className='dropdown'\"><a href=javascript: class=dropdown-toggle>格式化/压缩/混淆<b class=caret></b></a><ul class=dropdown-menu><li><a href=https://wetools.cc/json>JSON格式化</a>\n",
      "<li><a href=https://wetools.cc/sql>SQL格式化/压缩</a>\n",
      "</ul><li class=dropdown onmouseover=\"this.className='dropdown open'\" onmouseout=\"this.className='dropdown'\"><a href=javascript: class=dropdown-toggle>编解码/格式转换<b class=caret></b></a><ul class=dropdown-menu><li><a href=https://wetools.cc/base64>Base64编码解码</a>\n",
      "<li><a href=https://wetools.cc/urlencode>URL编码解码</a>\n",
      "<li><a href=https://wetools.cc/unicode>Unicode编码转换</a>\n",
      "<li><a href=https://wetools.cc/json2yaml>JSON/YAML互转</a>\n",
      "<li><a href=https://wetools.cc/timestamp>Unix时间戳</a>\n",
      "<li><a href=https://wetools.cc/json2xml>JSON/XML转换</a>\n",
      "<li><a href=https://wetools.cc/json2go>JSON转Golang Struct</a>\n",
      "<li><a href=https://wetools.cc/sql2go>SQL转Golang Struct</a>\n",
      "<li><a href=https://wetools.cc/json2proto>JSON转Proto</a>\n",
      "</ul><li class=dropdown onmouseover=\"this.className='dropdown open'\" onmouseout=\"this.className='dropdown'\"><a href=javascript: class=dropdown-toggle>加解密/Hash<b class=caret></b></a><ul class=dropdown-menu><li><a href=https://wetools.cc/des>DES加密解密</a>\n",
      "<li><a href=https://wetools.cc/hash>HASH计算/MD5/SHA1</a>\n",
      "<li><a href=https://wetools.cc/rsa>RSA加密解密</a>\n",
      "<li><a href=https://wetools.cc/aes>AES加密解密</a>\n",
      "<li><a href=https://wetools.cc/hmac>HMAC计算</a>\n",
      "</ul><li class=dropdown onmouseover=\"this.className='dropdown open'\" onmouseout=\"this.className='dropdown'\"><a href=javascript: class=dropdown-toggle>文档/手册<b class=caret></b></a><ul class=dropdown-menu><li><a href=https://wetools.cc/ascii>ASCII码表</a>\n",
      "<li><a href=https://wetools.cc/http-status-code>HTTP状态码</a>\n",
      "</ul><li class=dropdown onmouseover=\"this.className='dropdown open'\" onmouseout=\"this.className='dropdown'\"><a href=javascript: class=dropdown-toggle>其他<b class=caret></b></a><ul class=dropdown-menu><li><a href=https://wetools.cc/color>颜色值转换</a>\n",
      "<li><a href=https://wetools.cc/random>随机数/密码生成</a>\n",
      "<li><a href=https://wetools.cc/qrcode>二维码制作</a>\n",
      "</ul></ul><form class=\"navbar-form navbar-left visible-1120\"><div class=form-group><input class=\"form-control typeahead\" placeholder=试试快速导航></div></form><ul class=\"nav navbar-nav navbar-right\"><li class=dropdown><a href onclick=addFavorite() class=dropdown-toggle>★添加收藏</a><li class=dropdown><a target=_blank href=https://support.qq.com/products/336719 class=dropdown-toggle>♥留言反馈</a></ul></div></div></nav></header><script>function addFavorite(){try{window.sidebar.addPanel(location.href,document.title,\"\");}catch(e){try{window.external.addFavorite(document.title,location.href)}catch(e){alert(\"请使用快捷键Ctrl+D添加到收藏\");}}}\n",
      "var _hmt=_hmt||[];let hm=document.createElement(\"script\");hm.src=\"https://hm.baidu.com/hm.js?d3892a8ea4bec7ba1bb76ac94c952b6a\";let s=document.getElementsByTagName(\"script\")[0];s.parentNode.insertBefore(hm,s);let tools=document.querySelectorAll('.side-nav li');for(let i=0;i<tools.length;i++){let node=tools[i];if(node.querySelector('a').getAttribute('href').endsWith(document.location.pathname)){node.classList.add('active');break}}</script><script async src=\"https://www.googletagmanager.com/gtag/js?id=G-FC9T7F5QXS\"></script><script>window.dataLayer=window.dataLayer||[];function gtag(){dataLayer.push(arguments);}\n",
      "gtag('js',new Date());gtag('config','G-FC9T7F5QXS');</script><div id=content class=container-fluid><div class=\"row ttitle\"><div class=\"col-xs-12 col-sm-10\"><h3>随机数生成、随机字符串生成、random、密码生成器</h3></div><div class=\"col-xs-12 col-sm-2\"><dl class=\"list-unstyled pull-right\"></dl></div></div><div class=col-xs-12><form class=form-horizontal><div class=form-group><p class=\"bg-success text-success\">the generation is done in the client side, all your inputs will not submit to the server side</div><div class=\"form-group clearfix\"><label class=\"control-label col-sm-2\">Number:</label><div class=col-sm-2><input type=number class=form-control id=random-num value=5 placeholder></div></div><div class=\"form-group clearfix\"><label class=\"control-label col-sm-2\">Length:</label><div class=\"col-sm-10 form-inline\"><input type=number class=form-control id=random-len-from value=16 placeholder=\"Min length\">\n",
      "~\n",
      "<input type=number class=form-control id=random-len-to value=20 placeholder=\"Max length\"></div></div><div class=form-group><label class=\"control-label col-sm-2\">Charset:</label><div class=col-sm-10 id=random-charset><input class=form-control value=0123456789abcdefghijklmnopqrstuvwxyzABCDEFGHIJKLMNOPQRSTUVWXYZ~!@#$%^&*()_+ spellcheck=false><div class=checkbox><label><input type=checkbox value=0123456789 checked>\n",
      "numbers: 0123456789</label></div><div class=checkbox><label><input type=checkbox value=abcdefghijklmnopqrstuvwxyz checked>\n",
      "lowcase-letters: abcdefghijklmnopqrstuvwxyz</label></div><div class=checkbox><label><input type=checkbox value=ABCDEFGHIJKLMNOPQRSTUVWXYZ checked>\n",
      "upcase-letters: ABCDEFGHIJKLMNOPQRSTUVWXYZ</label></div><div class=checkbox><label><input type=checkbox value=~!@#$%^&*()_+ checked>\n",
      "symbols: ~!@#$%^&*()_+</label></div></div></div><div class=\"form-group clearfix\"><div class=\"col-sm-10 col-sm-offset-2\"><button type=button class=\"btn btn-primary\" id=random-generate autofocus>Generate</button></div></div><div class=form-group id=random-result><label class=\"control-label col-sm-2\">Result:</label><div class=col-sm-10><textarea class=form-control rows=6 spellcheck=false></textarea></div></div></form></div></div><script src=/static/libs/jquery/1.11.1/jquery-1.11.1.min.js></script><script src=/static/libs/bootstrap/customize/js/bootstrap.min.js></script><script src=/static/libs/bootstrap3-typeahead/bootstrap3-typeahead.min.js></script><script src=/static/js/main.js></script><script>~function($,window,Math){$(\"#random-generate\").click(function(e){var charset=$('#random-charset :text').val(),lenfrom=parseInt($('#random-len-from').val(),10),lento=parseInt($('#random-len-to').val(),10),num=parseInt($('#random-num').val(),10),result='';for(var i=num-1;i>=0;i--){result+=generateOne(charset,lenfrom,lento)+\"\\r\";}\n",
      "$('#random-result textarea').attr(\"rows\",num+1).val(result);e.preventDefault();return false;});$('#random-charset :checkbox').click(function(){var checked=$('#random-charset :checkbox:checked'),charset='';for(var i=0;i<checked.length;i++){charset+=checked[i].value};$('#random-charset :text').val(charset)});$(document).ready(function(){$('#random-generate').trigger('click');});function generateOne(charset,lenfrom,lento){var result='';if((lenfrom<=lento)&&(charset.length>0)&&(lenfrom>=0)){var len=Math.round(Math.random()*(lento-lenfrom)+lenfrom);while(result.length<len){result+=charset.charAt(Math.floor(Math.random()*charset.length))}}\n",
      "return result;}}(jQuery,window,Math)</script><div class=hidden><script></script></div>\u001b[0m\n",
      "Thought:\u001b[32;1m\u001b[1;3m This website is exactly what I was looking for! I can now answer the original question.\n",
      "Final Answer: This website can generate random numbers, random strings, and passwords.<|im_end|>\u001b[0m\n",
      "\n",
      "\u001b[1m> Finished chain.\u001b[0m\n"
     ]
    },
    {
     "data": {
      "text/plain": [
       "'This website can generate random numbers, random strings, and passwords.<|im_end|>'"
      ]
     },
     "execution_count": 10,
     "metadata": {},
     "output_type": "execute_result"
    }
   ],
   "source": [
    "response = agent({\"input\":\"Tell me what kind of thing this page can do: https://wetools.cc/random\"})\n",
    "response['output']"
   ]
  },
  {
   "cell_type": "code",
   "execution_count": 24,
   "metadata": {},
   "outputs": [
    {
     "name": "stdout",
     "output_type": "stream",
     "text": [
      "\n",
      "\n",
      "\u001b[1m> Entering new AgentExecutor chain...\u001b[0m\n",
      "\u001b[32;1m\u001b[1;3m I have to find out who his girlfriend is and then square her age\n",
      "Action: Search\n",
      "Action Input: 'Leo Dicaprio girlfriend'\u001b[0m\n",
      "Observation: \u001b[36;1m\u001b[1;3mLeonardo DiCaprio started dating hot 25 year olds back in the roaring '90s and...truly nothing has changed! Other than the people he's dating, of course, because lord knows this man won't... Leonardo DiCaprio is officially dating Vittoria Ceretti, Page Six can confirm. Getty Images for Global Citizen Leonardo DiCaprio has a new lady in his life — and it's getting serious, Page... This month, Leonardo DiCaprio has been seen with Italian model Vittoria Ceretti, despite rumors of a potential relationship with model Gigi Hadid over the past year. New rumors started about... His last relationship, with actor and model Camila Morrone, ended this past August, shortly after she turned 25. If there are two things people love, it's observing patterns, and having those... Leonardo DiCaprio's new girlfriend, Vittoria Ceretti, enjoyed a glitzy Paris Fashion Week event with Emily Ratajkowski Saturday night. Ceretti, 25, and Ratajkowski, 32, were photographed hanging ...\u001b[0m\n",
      "Thought:\u001b[32;1m\u001b[1;3m Now I know he's dating Vittoria Ceretti\n",
      "Action: Calculator\n",
      "Action Input: 25^2\u001b[0m\n",
      "\n",
      "\u001b[1m> Entering new LLMMathChain chain...\u001b[0m\n",
      "25^2\u001b[32;1m\u001b[1;3m```text\n",
      "25**2\n",
      "```\n",
      "...numexpr.evaluate(\"25**2\")...\n",
      "\u001b[0m\n",
      "Answer: \u001b[33;1m\u001b[1;3m625\u001b[0m\n",
      "\u001b[1m> Finished chain.\u001b[0m\n",
      "\n",
      "Observation: \u001b[38;5;200m\u001b[1;3mAnswer: 625\u001b[0m\n",
      "Thought:\u001b[32;1m\u001b[1;3m I have calculated the final answer\n",
      "Final Answer: 625\u001b[0m\n",
      "\n",
      "\u001b[1m> Finished chain.\u001b[0m\n"
     ]
    },
    {
     "data": {
      "text/plain": [
       "'625'"
      ]
     },
     "execution_count": 24,
     "metadata": {},
     "output_type": "execute_result"
    }
   ],
   "source": [
    "#agent.run(\"Who is Leo DiCaprio's girlfriend? What is her current age raised to the 2 power?\")\n",
    "response = agent({\"Who is Leo DiCaprio's girlfriend? What is her current age raised to the 2 power?\"})\n",
    "response['output']"
   ]
  }
 ],
 "metadata": {
  "kernelspec": {
   "display_name": "base",
   "language": "python",
   "name": "python3"
  },
  "language_info": {
   "codemirror_mode": {
    "name": "ipython",
    "version": 3
   },
   "file_extension": ".py",
   "mimetype": "text/x-python",
   "name": "python",
   "nbconvert_exporter": "python",
   "pygments_lexer": "ipython3",
   "version": "3.10.9"
  },
  "orig_nbformat": 4
 },
 "nbformat": 4,
 "nbformat_minor": 2
}
