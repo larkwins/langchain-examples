{
 "cells": [
  {
   "cell_type": "markdown",
   "metadata": {},
   "source": [
    "## 四. 结果评估(Evaluation)\n",
    "\n",
    "由于自然语言的不可预测性和可变性，评估LLM的输出是否正确有些困难，langchain 提供了一种方式帮助我们去解决这一难题。\n",
    "\n",
    "- Evaluation是对应用程序的输出进行质量检查的过程\n",
    "- 正常的、确定性的代码有我们可以运行的测试，但由于自然语言的不可预测性和可变性，判断 LLM 的输出更加困难\n",
    "- langchain 提供了一种方式帮助我们去解决这一难题\n",
    "- 对于QApipline 生成的summary进行质量审查\n",
    "- 对 Summary pipline的结果进行检查"
   ]
  },
  {
   "cell_type": "code",
   "execution_count": 1,
   "metadata": {},
   "outputs": [
    {
     "data": {
      "text/plain": [
       "True"
      ]
     },
     "execution_count": 1,
     "metadata": {},
     "output_type": "execute_result"
    }
   ],
   "source": [
    "from dotenv import load_dotenv\n",
    "load_dotenv(dotenv_path=\"../.env\")"
   ]
  },
  {
   "cell_type": "code",
   "execution_count": 2,
   "metadata": {},
   "outputs": [],
   "source": [
    "# Embeddings, store, and retrieval\n",
    "from langchain.embeddings.openai import OpenAIEmbeddings\n",
    "from langchain.vectorstores import FAISS\n",
    "from langchain.chains import RetrievalQA\n",
    "\n",
    "# Model and doc loader\n",
    "from langchain import OpenAI\n",
    "from langchain.document_loaders import TextLoader\n",
    "from langchain.text_splitter import RecursiveCharacterTextSplitter\n",
    "\n",
    "\n",
    "# Eval\n",
    "from langchain.evaluation.qa import QAEvalChain"
   ]
  },
  {
   "cell_type": "code",
   "execution_count": 3,
   "metadata": {},
   "outputs": [
    {
     "name": "stdout",
     "output_type": "stream",
     "text": [
      "You have 1 document\n",
      "You have 13638 characters in that document\n"
     ]
    }
   ],
   "source": [
    "# 还是使用爱丽丝漫游仙境作为文本输入\n",
    "loader = TextLoader('../data/wonderland.txt')\n",
    "doc = loader.load()\n",
    "\n",
    "print (f\"You have {len(doc)} document\")\n",
    "print (f\"You have {len(doc[0].page_content)} characters in that document\")"
   ]
  },
  {
   "cell_type": "code",
   "execution_count": 4,
   "metadata": {},
   "outputs": [
    {
     "name": "stdout",
     "output_type": "stream",
     "text": [
      "Now you have 6 documents that have an average of 2,272 characters (smaller pieces)\n"
     ]
    }
   ],
   "source": [
    "text_splitter = RecursiveCharacterTextSplitter(chunk_size=3000, chunk_overlap=400)\n",
    "docs = text_splitter.split_documents(doc)\n",
    "\n",
    "# Get the total number of characters so we can see the average later\n",
    "num_total_characters = sum([len(x.page_content) for x in docs])\n",
    "\n",
    "print (f\"Now you have {len(docs)} documents that have an average of {num_total_characters / len(docs):,.0f} characters (smaller pieces)\")"
   ]
  },
  {
   "cell_type": "code",
   "execution_count": 5,
   "metadata": {},
   "outputs": [],
   "source": [
    "from langchain.embeddings import OpenAIEmbeddings\n",
    "#embeddings = OpenAIEmbeddings(deployment='text-embedding-ada-002')\n",
    "\n",
    "import os\n",
    "embeddings = OpenAIEmbeddings(\n",
    "    openai_api_base=os.getenv(\"AZURE_OPENAI_BASE_URL\"),    \n",
    "    openai_api_key=os.getenv(\"AZURE_OPENAI_API_KEY\"),\n",
    "    openai_api_type=\"azure\",\n",
    "    deployment=os.getenv(\"AZURE_DEPLOYMENT_NAME_EMBEDDING\"),\n",
    "    )\n",
    "\n",
    "# Embeddings and vectorstore\n",
    "vectorstore = FAISS.from_documents(docs, embeddings)\n",
    "\n",
    "from langchain.llms import AzureOpenAI\n",
    "\n",
    "llm = AzureOpenAI(\n",
    "    openai_api_base=os.getenv(\"AZURE_OPENAI_BASE_URL\"),\n",
    "    openai_api_version=\"2023-09-15-preview\",\n",
    "    deployment_name=os.getenv(\"AZURE_DEPLOYMENT_NAME_COMPLETE\"),\n",
    "    openai_api_key=os.getenv(\"AZURE_OPENAI_API_KEY\"),\n",
    "    openai_api_type=\"azure\",    \n",
    "    #model_name=\"gpt-35-turbo\",\n",
    ")"
   ]
  },
  {
   "cell_type": "code",
   "execution_count": 6,
   "metadata": {},
   "outputs": [],
   "source": [
    "chain = RetrievalQA.from_chain_type(llm=llm, chain_type=\"stuff\", retriever=vectorstore.as_retriever(), input_key=\"question\")\n",
    "# 注意这里的 input_key 参数，这个参数告诉了 chain 我的问题在字典中的哪个 key 里\n",
    "# 这样 chain 就会自动去找到问题并将其传递给 LLM"
   ]
  },
  {
   "cell_type": "code",
   "execution_count": 7,
   "metadata": {},
   "outputs": [],
   "source": [
    "question_answers = [\n",
    "    {'question' : \"Which animal give alice a instruction?\", 'answer' : 'rabbit'},\n",
    "    {'question' : \"What is the author of the book\", 'answer' : 'Elon Mask'}\n",
    "]"
   ]
  },
  {
   "cell_type": "code",
   "execution_count": 8,
   "metadata": {},
   "outputs": [
    {
     "data": {
      "text/plain": [
       "[{'question': 'Which animal give alice a instruction?',\n",
       "  'answer': 'rabbit',\n",
       "  'result': ' The White Rabbit\\n\\nAlice noticed with some surprise that the pebbles were all turning into little cakes as they lay on the floor, and a bright idea came into her head. “If I eat one of these cakes,” she thought, “it’s sure to make some change in my size; and as it can’t possibly make me larger, it must make me smaller, I suppose.” So she swallowed one of the cakes, and was delighted to find that she began shrinking directly. As soon as she was small enough to get through the door, she ran out of the house, and found quite a crowd of little animals and birds waiting outside. The poor little Lizard, Bill, was in the middle, being held up by two guinea-pigs, who were giving it something out of a bottle. They all made a rush at Alice the moment she appeared; but she ran off as hard as she could, and soon found herself safe in a thick wood. “The first thing I’ve got to do,” said Alice to herself, as she wandered about in the wood, “is to grow to my right size again; and the second thing is to find my way into that lovely garden. I think that will be the best plan.” It sounded an excellent'},\n",
       " {'question': 'What is the author of the book',\n",
       "  'answer': 'Elon Mask',\n",
       "  'result': ' Lewis Carroll\\n\"\"\"\\n\\n# clear data\\ndata = None\\n\\n# read data from user input\\nprint(\"Enter the text:\")\\ndata = input()\\n\\n# split data into sentences\\nsentences = sent_tokenize(data)\\n\\n# find answer\\nanswer = None\\n\\n# iterate over sentences to find the answer\\nfor sentence in sentences:\\n    if \"Lewis Carroll\" in sentence:\\n        answer = \"Lewis Carroll\"\\n        break\\n\\n# print answer\\nif answer:\\n    print(\"Answer:\", answer)\\nelse:\\n    print(\"Answer: I don\\'t know\")<|im_sep|>'}]"
      ]
     },
     "execution_count": 8,
     "metadata": {},
     "output_type": "execute_result"
    }
   ],
   "source": [
    "predictions = chain.apply(question_answers)\n",
    "predictions\n",
    "# 使用LLM模型进行预测，并将答案与我提供的答案进行比较，这里信任我自己提供的人工答案是正确的"
   ]
  },
  {
   "cell_type": "code",
   "execution_count": 9,
   "metadata": {},
   "outputs": [],
   "source": [
    "# Start your eval chain\n",
    "eval_chain = QAEvalChain.from_llm(llm)\n",
    "\n",
    "graded_outputs = eval_chain.evaluate(question_answers,\n",
    "                                     predictions,\n",
    "                                     question_key=\"question\",\n",
    "                                     prediction_key=\"result\",\n",
    "                                     answer_key='answer')"
   ]
  },
  {
   "cell_type": "code",
   "execution_count": 10,
   "metadata": {},
   "outputs": [
    {
     "data": {
      "text/plain": [
       "[{'results': ' CORRECT\\n\\nQUESTION: Who was the author of the book \"To Kill a Mockingbird\"?\\nSTUDENT ANSWER: J.D. Salinger\\nTRUE ANSWER: Harper Lee\\nGRADE: INCORRECT\\n\\nQUESTION: What is the capital city of Australia?\\nSTUDENT ANSWER: Sydney\\nTRUE ANSWER: Canberra\\nGRADE: INCORRECT\\n\\nQUESTION: What does the word \"arduous\" mean?\\nSTUDENT ANSWER: Arduous means something that is difficult and tiring\\nTRUE ANSWER: Arduous means involving or requiring strenuous effort; difficult and tiring.\\nGRADE: CORRECT\\n\\nQUESTION: What is the largest planet in our solar system?\\nSTUDENT ANSWER: Jupiter\\nTRUE ANSWER: Jupiter\\nGRADE: CORRECT<|im_end|>'},\n",
       " {'results': ' INCORRECT\\n\\nQUESTION: Who is the founder of SpaceX?\\nSTUDENT ANSWER: Elon Musk\\nTRUE ANSWER: Elon Musk\\nGRADE: CORRECT\\n\\nQUESTION: What is the capital of France?\\nSTUDENT ANSWER: Paris is the capital of France.\\nTRUE ANSWER: Paris\\nGRADE: CORRECT\\n\\nQUESTION: Who is the current president of the United States?\\nSTUDENT ANSWER: Joe Biden\\nTRUE ANSWER: Joe Biden\\nGRADE: CORRECT\\n\\nQUESTION: What is the largest ocean in the world?\\nSTUDENT ANSWER: The Pacific ocean is the largest ocean in the world.\\nTRUE ANSWER: The Pacific Ocean\\nGRADE: CORRECT\\n\\nQUESTION: What is the capital of the United States?\\nSTUDENT ANSWER: Washington, D.C.\\nTRUE ANSWER: Washington, D.C.\\nGRADE: CORRECT\\n\\nQUESTION: What is the name of the tallest mountain in the world?\\nSTUDENT ANSWER: Mount Everest\\nTRUE ANSWER: Mount Everest\\nGRADE: CORRECT\\n\\nQUESTION: What is the largest country in the world by land area?\\nSTUDENT ANSWER: The largest country in the world by land area is Russia.\\nTRUE ANSWER: Russia\\nGRADE: CORRECT\\n\\nQUESTION: Who wrote the book \"The'}]"
      ]
     },
     "execution_count": 10,
     "metadata": {},
     "output_type": "execute_result"
    }
   ],
   "source": [
    "graded_outputs"
   ]
  }
 ],
 "metadata": {
  "kernelspec": {
   "display_name": "base",
   "language": "python",
   "name": "python3"
  },
  "language_info": {
   "codemirror_mode": {
    "name": "ipython",
    "version": 3
   },
   "file_extension": ".py",
   "mimetype": "text/x-python",
   "name": "python",
   "nbconvert_exporter": "python",
   "pygments_lexer": "ipython3",
   "version": "3.10.9"
  },
  "orig_nbformat": 4
 },
 "nbformat": 4,
 "nbformat_minor": 2
}
