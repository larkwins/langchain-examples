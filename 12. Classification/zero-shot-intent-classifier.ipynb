{
 "cells": [
  {
   "cell_type": "markdown",
   "metadata": {},
   "source": [
    "## 十二. 分类(Classification)\n"
   ]
  },
  {
   "cell_type": "markdown",
   "metadata": {},
   "source": [
    "以下是一个意图分类器："
   ]
  },
  {
   "cell_type": "code",
   "execution_count": 1,
   "metadata": {},
   "outputs": [
    {
     "data": {
      "text/plain": [
       "True"
      ]
     },
     "execution_count": 1,
     "metadata": {},
     "output_type": "execute_result"
    }
   ],
   "source": [
    "from dotenv import load_dotenv\n",
    "load_dotenv(dotenv_path=\"../.env\")"
   ]
  },
  {
   "cell_type": "code",
   "execution_count": 2,
   "metadata": {},
   "outputs": [],
   "source": [
    "from langchain.llms import OpenAI\n",
    "from langchain.prompts import PromptTemplate\n",
    "from langchain.chains import LLMChain\n",
    "import json\n",
    "\n",
    "INTENTS = [\n",
    "    \"play_internet_radio\", \n",
    "    \"play_song_by_artist\",\n",
    "    \"get_weather\",\n",
    "    \"current_time\",\n",
    "    \"set_timer\",\n",
    "    \"remind_me\",\n",
    "]\n",
    "\n",
    "def build_intent_classifier(intents=INTENTS):\n",
    "    template = (\n",
    "        \"Act as the intent classification component of a home assistant, similar to Amazon Alexa \"\n",
    "        \"(except your name is 'Becca', not 'Alexa').\\n\"\n",
    "        f\"Common intents include: {', '.join(intents)}, ...\\n\"\n",
    "        'You receive input in json format: `{{\"input\":...}}`\\n'\n",
    "        'You respond in json format: `{{\"intent\":..., \"arguments\":{{ ... }}, }}}}`\\n\\n'\n",
    "        '{{\"input\":{spoken_request}}}'\n",
    "    )\n",
    "\n",
    "    llm = OpenAI(temperature=0.1)\n",
    "    prompt = PromptTemplate(\n",
    "        input_variables=[\"spoken_request\"],\n",
    "        template=template,\n",
    "    )\n",
    "    return LLMChain(llm=llm, prompt=prompt)\n",
    "\n",
    "def evaluate(chain, text):\n",
    "    response = chain.run(text)\n",
    "    return response\n",
    "#    return json.loads(response.strip())\n"
   ]
  },
  {
   "cell_type": "code",
   "execution_count": 3,
   "metadata": {},
   "outputs": [],
   "source": [
    "chain = build_intent_classifier()"
   ]
  },
  {
   "cell_type": "code",
   "execution_count": 7,
   "metadata": {},
   "outputs": [
    {
     "name": "stdout",
     "output_type": "stream",
     "text": [
      "\n",
      "\n",
      "{\"intent\":\"play_internet_radio\", \"arguments\":{\"station\":\"KEXP\"}}\n"
     ]
    }
   ],
   "source": [
    "text = \"becca play kexp\"\n",
    "response = evaluate(chain, text)\n",
    "print(response)\n",
    "#assert response == {'intent':'play_internet_radio', 'arguments':{'station':'KEXP'}}"
   ]
  },
  {
   "cell_type": "code",
   "execution_count": 8,
   "metadata": {},
   "outputs": [
    {
     "name": "stdout",
     "output_type": "stream",
     "text": [
      "\n",
      "\n",
      "{\"intent\":\"get_directions\", \"arguments\":{\"start_location\":\"home\", \"end_location\":\"SeaTac airport\"}}\n"
     ]
    }
   ],
   "source": [
    "text = \"becca, how would I drive from my home to SeaTac airport?\"\n",
    "response = evaluate(chain, text)\n",
    "print(response)"
   ]
  },
  {
   "cell_type": "code",
   "execution_count": 5,
   "metadata": {},
   "outputs": [
    {
     "name": "stdout",
     "output_type": "stream",
     "text": [
      "\n",
      "\n",
      "{\"intent\": \"remind_me\", \"arguments\": {\"time\": \"lunchtime\", \"message\": \"Let's go to lunch together\"}}\n"
     ]
    }
   ],
   "source": [
    "text = \"Jerry, i'm hungry, let's go to lunch together\"\n",
    "response = evaluate(chain, text)\n",
    "print(response)"
   ]
  }
 ],
 "metadata": {
  "kernelspec": {
   "display_name": "base",
   "language": "python",
   "name": "python3"
  },
  "language_info": {
   "codemirror_mode": {
    "name": "ipython",
    "version": 3
   },
   "file_extension": ".py",
   "mimetype": "text/x-python",
   "name": "python",
   "nbconvert_exporter": "python",
   "pygments_lexer": "ipython3",
   "version": "3.10.9"
  },
  "orig_nbformat": 4
 },
 "nbformat": 4,
 "nbformat_minor": 2
}
